{
  "nbformat": 4,
  "nbformat_minor": 0,
  "metadata": {
    "colab": {
      "provenance": []
    },
    "kernelspec": {
      "name": "python3",
      "display_name": "Python 3"
    },
    "language_info": {
      "name": "python"
    }
  },
  "cells": [
    {
      "cell_type": "code",
      "execution_count": null,
      "metadata": {
        "id": "xaBzpJ4lI2Jk"
      },
      "outputs": [],
      "source": []
    },
    {
      "cell_type": "markdown",
      "source": [
        " **Projeto 1 do módulo 1 do curso de Analista de Dados EBAC**\n",
        "\n",
        " >Nome do projeto:\n",
        "\n",
        "**TABUADA INTERATIVA**\n"
      ],
      "metadata": {
        "id": "wLmiKQk0JpNt"
      }
    },
    {
      "cell_type": "code",
      "source": [
        "print('Olá seja bem vindo(a) à minha tabuada interativa!')\n",
        "\n",
        "nome = input ('Para começar digite o seu nome :')     #input para o usuário digitar o nome\n",
        "print('Muito bem', nome, 'vamos começar ?')        #uso da concatenção (,) para uso de string e variável nome\n",
        "num1 = int(input('Digite um número inteiro: '))   #uso do type int para números inteiros\n",
        "num1_convert = float(num1)                  #uso da variavel para conversão de int para float\n",
        "print('O número digitado foi: ', num1, ',porém convertemos ele para um número decimal: ', num1_convert)    #uso de concatenação\n",
        "num2 = float(input('Agora digite um número com casas decimais : '))     #uso do flot para espaço em memória com casa decimal\n",
        "num2_convert = int(num2)             #convert para conversão para type int\n",
        "print('O número digitado foi : ', num2, ', porém convertemos ele para um número inteiro: ', num2_convert)    #uso da concatenação\n",
        "print('Legal né!')\n",
        "\n",
        "\n",
        "print('Agora vamos interagir com a tabuada interativa! ')\n",
        "x = int(input('Digite um número para x :'))   #type int\n",
        "y = int(input('Digite um número para y :'))\n",
        "x + y            #operador aritmético\n",
        "print('O resultado da soma de x + y é : ' , x + y)\n",
        "\n",
        "\n",
        "print('Gostou da brincadeira? Vamos continuar!!')\n",
        "z = int(input('Digite um número para z :'))  #type int\n",
        "w = int(input('Agora, digite um número para w :'))\n",
        "z - w\n",
        "print('BRILHANTE!! O resultado da subtração de z - w é : ' , z - w)\n",
        "\n",
        "print('Vamos continuar aprendendo sobre a nossa tabuada')\n",
        "m = int(input('Digite um número para m : '))\n",
        "n = int(input('Digite um número para n : '))\n",
        "m * n\n",
        "print('Você é um fenômeno! O resultado da multplicação de m x n é : ' , m * n)\n",
        "\n",
        "\n",
        "print('Agora a parte mais díficil da nossa tabuada')\n",
        "s = int(input(\"Digite um número para s : \"))\n",
        "r = int(input('Agora, digite um número para r :'))\n",
        "s // r\n",
        "print('Uauu!! O resultado da divisão de s / r foi de :' , s // r)\n",
        "\n",
        "print('Com nossa tabuada interativa, você aprende brincando!')\n",
        "print('Agora vamos para a nossa brincadeira final!!')\n",
        "print('Tente contar até cem e terminar antes da nossa tabuada interativa, vamos lá ?')\n",
        "\n",
        "for contador in range (100):              #for range\n",
        "  print(contador)\n",
        "\n",
        "\n",
        "print('Ah não acredito, você ganhou' , nome)\n",
        "print('Foi um prazer brincar com você, volte quantas vezes quiser ! Aprenda brincando, aprenda interagindo !')\n",
        "\n",
        "\n",
        "\n",
        "\n",
        "\n",
        "\n",
        "\n",
        "\n"
      ],
      "metadata": {
        "id": "MtlH3iXWNEZ3"
      },
      "execution_count": null,
      "outputs": []
    },
    {
      "cell_type": "code",
      "source": [],
      "metadata": {
        "id": "X1rUQg9HrW-e"
      },
      "execution_count": null,
      "outputs": []
    }
  ]
}